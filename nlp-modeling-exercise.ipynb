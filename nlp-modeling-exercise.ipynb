{
 "cells": [
  {
   "cell_type": "code",
   "execution_count": 22,
   "id": "c253d333-06ec-4b98-836f-69b03fc5eebe",
   "metadata": {},
   "outputs": [],
   "source": [
    "import pandas as pd\n",
    "import matplotlib.pyplot as plt\n",
    "#NLP library \n",
    "import re\n",
    "import unicodedata\n",
    "import nltk\n",
    "from wordcloud import WordCloud\n",
    "\n",
    "\n",
    "%matplotlib inline\n",
    "import matplotlib.pyplot as plt\n",
    "\n",
    "\n",
    "from nltk.stem import PorterStemmer\n",
    "from nltk.tokenize import word_tokenize\n",
    "from nltk.util import ngrams\n",
    "from nltk.tokenize.toktok import ToktokTokenizer\n",
    "from pprint import pprint\n",
    "#My libraries \n",
    "import acquire as a \n",
    "from env import get_connection\n",
    "\n",
    "#Beautiful Soup and Webscrape\n",
    "from requests import get\n",
    "from bs4 import BeautifulSoup\n",
    "\n",
    "\n",
    "#Modeling \n",
    "\n",
    "from sklearn.model_selection import train_test_split\n",
    "from sklearn.feature_extraction.text import CountVectorizer, TfidfVectorizer\n",
    "from sklearn.metrics import accuracy_score, classification_report\n",
    "from sklearn.linear_model import LogisticRegression\n",
    "from sklearn.svm import SVC\n",
    "from sklearn.tree import DecisionTreeClassifier\n",
    "\n",
    "\n",
    "\n",
    "import warnings"
   ]
  },
  {
   "cell_type": "markdown",
   "id": "56ad97f3-5e41-409f-b417-a2f59c0be098",
   "metadata": {},
   "source": [
    "# .a Load the spam dataset"
   ]
  },
  {
   "cell_type": "code",
   "execution_count": 2,
   "id": "a02a6dde-6201-4788-9d78-267612ef9e1b",
   "metadata": {},
   "outputs": [],
   "source": [
    "url = get_connection('spam_db')"
   ]
  },
  {
   "cell_type": "code",
   "execution_count": 3,
   "id": "adbd85ab-a984-4d6c-9439-80ed2d65ec58",
   "metadata": {},
   "outputs": [],
   "source": [
    "query = '''\n",
    "        SELECT *\n",
    "        FROM spam\n",
    "        '''"
   ]
  },
  {
   "cell_type": "code",
   "execution_count": null,
   "id": "ea445fc7-ef6f-432c-a390-623d02db7ccb",
   "metadata": {},
   "outputs": [],
   "source": []
  },
  {
   "cell_type": "code",
   "execution_count": 12,
   "id": "02f15d90-3208-47fb-9aac-37b0ed76ec08",
   "metadata": {},
   "outputs": [
    {
     "data": {
      "text/html": [
       "<div>\n",
       "<style scoped>\n",
       "    .dataframe tbody tr th:only-of-type {\n",
       "        vertical-align: middle;\n",
       "    }\n",
       "\n",
       "    .dataframe tbody tr th {\n",
       "        vertical-align: top;\n",
       "    }\n",
       "\n",
       "    .dataframe thead th {\n",
       "        text-align: right;\n",
       "    }\n",
       "</style>\n",
       "<table border=\"1\" class=\"dataframe\">\n",
       "  <thead>\n",
       "    <tr style=\"text-align: right;\">\n",
       "      <th></th>\n",
       "      <th>id</th>\n",
       "      <th>label</th>\n",
       "      <th>text</th>\n",
       "    </tr>\n",
       "  </thead>\n",
       "  <tbody>\n",
       "    <tr>\n",
       "      <th>0</th>\n",
       "      <td>0</td>\n",
       "      <td>ham</td>\n",
       "      <td>Go until jurong point, crazy.. Available only ...</td>\n",
       "    </tr>\n",
       "    <tr>\n",
       "      <th>1</th>\n",
       "      <td>1</td>\n",
       "      <td>ham</td>\n",
       "      <td>Ok lar... Joking wif u oni...</td>\n",
       "    </tr>\n",
       "    <tr>\n",
       "      <th>2</th>\n",
       "      <td>2</td>\n",
       "      <td>spam</td>\n",
       "      <td>Free entry in 2 a wkly comp to win FA Cup fina...</td>\n",
       "    </tr>\n",
       "    <tr>\n",
       "      <th>3</th>\n",
       "      <td>3</td>\n",
       "      <td>ham</td>\n",
       "      <td>U dun say so early hor... U c already then say...</td>\n",
       "    </tr>\n",
       "    <tr>\n",
       "      <th>4</th>\n",
       "      <td>4</td>\n",
       "      <td>ham</td>\n",
       "      <td>Nah I don't think he goes to usf, he lives aro...</td>\n",
       "    </tr>\n",
       "  </tbody>\n",
       "</table>\n",
       "</div>"
      ],
      "text/plain": [
       "   id label                                               text\n",
       "0   0   ham  Go until jurong point, crazy.. Available only ...\n",
       "1   1   ham                      Ok lar... Joking wif u oni...\n",
       "2   2  spam  Free entry in 2 a wkly comp to win FA Cup fina...\n",
       "3   3   ham  U dun say so early hor... U c already then say...\n",
       "4   4   ham  Nah I don't think he goes to usf, he lives aro..."
      ]
     },
     "execution_count": 12,
     "metadata": {},
     "output_type": "execute_result"
    }
   ],
   "source": [
    "df = pd.read_sql(query, url)\n",
    "df.head()"
   ]
  },
  {
   "cell_type": "code",
   "execution_count": 13,
   "id": "4df4ba82-d13b-44a1-afb3-aa3efbd58bb3",
   "metadata": {},
   "outputs": [],
   "source": [
    "def clean(text: str) -> list:\n",
    "    'A simple function to cleanup text data'\n",
    "    wnl = nltk.stem.WordNetLemmatizer()\n",
    "    stopwords = set(nltk.corpus.stopwords.words('english'))\n",
    "    text = (text.encode('ascii', 'ignore')\n",
    "             .decode('utf-8', 'ignore')\n",
    "             .lower())\n",
    "    words = re.sub(r'[^\\w\\s]', '', text).split() # tokenization\n",
    "    return [wnl.lemmatize(word) for word in words if word not in stopwords]\n",
    "    "
   ]
  },
  {
   "cell_type": "code",
   "execution_count": 14,
   "id": "5554d439-7112-4b64-930d-e77b4613c62c",
   "metadata": {},
   "outputs": [],
   "source": [
    "df['clean_text'] = df.text.apply(clean).apply(' '.join)\n"
   ]
  },
  {
   "cell_type": "code",
   "execution_count": 15,
   "id": "af08eb3d-044b-41d7-b465-95106fc83239",
   "metadata": {},
   "outputs": [
    {
     "data": {
      "text/html": [
       "<div>\n",
       "<style scoped>\n",
       "    .dataframe tbody tr th:only-of-type {\n",
       "        vertical-align: middle;\n",
       "    }\n",
       "\n",
       "    .dataframe tbody tr th {\n",
       "        vertical-align: top;\n",
       "    }\n",
       "\n",
       "    .dataframe thead th {\n",
       "        text-align: right;\n",
       "    }\n",
       "</style>\n",
       "<table border=\"1\" class=\"dataframe\">\n",
       "  <thead>\n",
       "    <tr style=\"text-align: right;\">\n",
       "      <th></th>\n",
       "      <th>label</th>\n",
       "      <th>text</th>\n",
       "      <th>clean_text</th>\n",
       "    </tr>\n",
       "  </thead>\n",
       "  <tbody>\n",
       "    <tr>\n",
       "      <th>0</th>\n",
       "      <td>ham</td>\n",
       "      <td>Go until jurong point, crazy.. Available only ...</td>\n",
       "      <td>go jurong point crazy available bugis n great ...</td>\n",
       "    </tr>\n",
       "    <tr>\n",
       "      <th>1</th>\n",
       "      <td>ham</td>\n",
       "      <td>Ok lar... Joking wif u oni...</td>\n",
       "      <td>ok lar joking wif u oni</td>\n",
       "    </tr>\n",
       "    <tr>\n",
       "      <th>2</th>\n",
       "      <td>spam</td>\n",
       "      <td>Free entry in 2 a wkly comp to win FA Cup fina...</td>\n",
       "      <td>free entry 2 wkly comp win fa cup final tkts 2...</td>\n",
       "    </tr>\n",
       "    <tr>\n",
       "      <th>3</th>\n",
       "      <td>ham</td>\n",
       "      <td>U dun say so early hor... U c already then say...</td>\n",
       "      <td>u dun say early hor u c already say</td>\n",
       "    </tr>\n",
       "    <tr>\n",
       "      <th>4</th>\n",
       "      <td>ham</td>\n",
       "      <td>Nah I don't think he goes to usf, he lives aro...</td>\n",
       "      <td>nah dont think go usf life around though</td>\n",
       "    </tr>\n",
       "  </tbody>\n",
       "</table>\n",
       "</div>"
      ],
      "text/plain": [
       "  label                                               text  \\\n",
       "0   ham  Go until jurong point, crazy.. Available only ...   \n",
       "1   ham                      Ok lar... Joking wif u oni...   \n",
       "2  spam  Free entry in 2 a wkly comp to win FA Cup fina...   \n",
       "3   ham  U dun say so early hor... U c already then say...   \n",
       "4   ham  Nah I don't think he goes to usf, he lives aro...   \n",
       "\n",
       "                                          clean_text  \n",
       "0  go jurong point crazy available bugis n great ...  \n",
       "1                            ok lar joking wif u oni  \n",
       "2  free entry 2 wkly comp win fa cup final tkts 2...  \n",
       "3                u dun say early hor u c already say  \n",
       "4           nah dont think go usf life around though  "
      ]
     },
     "execution_count": 15,
     "metadata": {},
     "output_type": "execute_result"
    }
   ],
   "source": [
    "df.drop(columns='id').head()\n"
   ]
  },
  {
   "cell_type": "code",
   "execution_count": 18,
   "id": "d8e2cb51-639e-4289-94f1-a9431b92fbd7",
   "metadata": {},
   "outputs": [],
   "source": [
    "X = df.clean_text\n",
    "y = df.label\n",
    "X_train_val, X_test, y_train_val, y_test = \\\n",
    "train_test_split(X, y, \n",
    "                 test_size=0.7, \n",
    "                 random_state=142,\n",
    "                 stratify=df.label)\n",
    "X_train, X_validate, y_train, y_validate =\\\n",
    "train_test_split(X_train_val, y_train_val, \n",
    "                 test_size=0.7, \n",
    "                 random_state=142)"
   ]
  },
  {
   "cell_type": "code",
   "execution_count": 19,
   "id": "23aa269e-3f3e-4186-86ba-7abb84459184",
   "metadata": {},
   "outputs": [
    {
     "data": {
      "text/plain": [
       "3635    2 babe feel let 4get itboth try cheer upnot fi...\n",
       "125                                            good stuff\n",
       "1160                             sure neighbor didnt pick\n",
       "3496    oh grand bit party doesnt mention cover charge...\n",
       "2338                                      alright see bit\n",
       "Name: clean_text, dtype: object"
      ]
     },
     "execution_count": 19,
     "metadata": {},
     "output_type": "execute_result"
    }
   ],
   "source": [
    "X_train.head()"
   ]
  },
  {
   "cell_type": "code",
   "execution_count": 20,
   "id": "b08e9d8a-7db5-43e0-ba47-980604dfa679",
   "metadata": {},
   "outputs": [
    {
     "data": {
      "text/plain": [
       "label\n",
       "ham     0.878244\n",
       "spam    0.121756\n",
       "Name: proportion, dtype: float64"
      ]
     },
     "execution_count": 20,
     "metadata": {},
     "output_type": "execute_result"
    }
   ],
   "source": [
    "y_train.value_counts(normalize=True)\n"
   ]
  },
  {
   "cell_type": "code",
   "execution_count": 23,
   "id": "69fd30bf-b72f-427d-a3c1-3b42bc9e6dc2",
   "metadata": {},
   "outputs": [
    {
     "name": "stdout",
     "output_type": "stream",
     "text": [
      "training accuracy score at max_depth=2 is: 0.936127744510978\n",
      "validation accuracy score at max_depth=2 is: 0.9025641025641026\n",
      "\n",
      "training accuracy score at max_depth=3 is: 0.9520958083832335\n",
      "validation accuracy score at max_depth=3 is: 0.9042735042735043\n",
      "\n",
      "training accuracy score at max_depth=4 is: 0.9660678642714571\n",
      "validation accuracy score at max_depth=4 is: 0.9196581196581196\n",
      "\n",
      "training accuracy score at max_depth=5 is: 0.9740518962075848\n",
      "validation accuracy score at max_depth=5 is: 0.9205128205128205\n",
      "\n",
      "training accuracy score at max_depth=6 is: 0.9780439121756487\n",
      "validation accuracy score at max_depth=6 is: 0.9188034188034188\n",
      "\n",
      "training accuracy score at max_depth=7 is: 0.9840319361277445\n",
      "validation accuracy score at max_depth=7 is: 0.9230769230769231\n",
      "\n",
      "training accuracy score at max_depth=8 is: 0.9880239520958084\n",
      "validation accuracy score at max_depth=8 is: 0.9162393162393162\n",
      "\n",
      "training accuracy score at max_depth=9 is: 0.9920159680638723\n",
      "validation accuracy score at max_depth=9 is: 0.9273504273504274\n",
      "\n",
      "training accuracy score at max_depth=10 is: 0.9940119760479041\n",
      "validation accuracy score at max_depth=10 is: 0.9145299145299145\n",
      "\n"
     ]
    }
   ],
   "source": [
    "# Whatever transformations we apply to X_train need to be applied to X_test\n",
    "for i in range(2,11):\n",
    "    cv = CountVectorizer()\n",
    "    X_bow = cv.fit_transform(X_train)\n",
    "    tree = DecisionTreeClassifier(max_depth=i)\n",
    "    tree.fit(X_bow, y_train)\n",
    "    print(f'training accuracy score at max_depth={i}\\\n",
    " is: {tree.score(X_bow, y_train)}')\n",
    "\n",
    "    X_val_bow = cv.transform(X_validate)\n",
    "    print(f'validation accuracy score at max_depth={i}\\\n",
    " is: {tree.score(X_val_bow, y_validate)}')\n",
    "    print()"
   ]
  },
  {
   "cell_type": "code",
   "execution_count": 25,
   "id": "3da57ce4-307b-43ab-8c64-2203a93ab850",
   "metadata": {},
   "outputs": [
    {
     "name": "stdout",
     "output_type": "stream",
     "text": [
      "test data accuracy score at max_depth=10 is: 0.9207895411432966\n"
     ]
    }
   ],
   "source": [
    "X_test_bow = cv.transform(X_test)\n",
    "print(f'test data accuracy score at max_depth={i} is: {tree.score(X_test_bow, y_test)}')\n"
   ]
  },
  {
   "cell_type": "code",
   "execution_count": 26,
   "id": "93a32286-ffe6-4775-adb0-b7b576be89e2",
   "metadata": {},
   "outputs": [
    {
     "name": "stdout",
     "output_type": "stream",
     "text": [
      "training accuracy score at max_depth=2 is: 0.9461077844311377\n",
      "validation accuracy score at max_depth=2 is: 0.9085470085470085\n",
      "\n",
      "training accuracy score at max_depth=3 is: 0.9620758483033932\n",
      "validation accuracy score at max_depth=3 is: 0.9162393162393162\n",
      "\n",
      "training accuracy score at max_depth=4 is: 0.9740518962075848\n",
      "validation accuracy score at max_depth=4 is: 0.9222222222222223\n",
      "\n",
      "training accuracy score at max_depth=5 is: 0.9820359281437125\n",
      "validation accuracy score at max_depth=5 is: 0.9256410256410257\n",
      "\n",
      "training accuracy score at max_depth=6 is: 0.9880239520958084\n",
      "validation accuracy score at max_depth=6 is: 0.9282051282051282\n",
      "\n",
      "training accuracy score at max_depth=7 is: 0.9900199600798403\n",
      "validation accuracy score at max_depth=7 is: 0.9333333333333333\n",
      "\n",
      "training accuracy score at max_depth=8 is: 0.9920159680638723\n",
      "validation accuracy score at max_depth=8 is: 0.9299145299145299\n",
      "\n",
      "training accuracy score at max_depth=9 is: 0.9940119760479041\n",
      "validation accuracy score at max_depth=9 is: 0.9247863247863248\n",
      "\n",
      "training accuracy score at max_depth=10 is: 0.9960079840319361\n",
      "validation accuracy score at max_depth=10 is: 0.9299145299145299\n",
      "\n"
     ]
    }
   ],
   "source": [
    "# Whatever transformations we apply to X_train need to be applied to X_test\n",
    "for i in range(2,11):\n",
    "    tfidf = TfidfVectorizer()\n",
    "    X_bow = tfidf.fit_transform(X_train)\n",
    "    tree = DecisionTreeClassifier(max_depth=i)\n",
    "    tree.fit(X_bow, y_train)\n",
    "    print(f'training accuracy score at max_depth={i}\\\n",
    " is: {tree.score(X_bow, y_train)}')\n",
    "\n",
    "    X_val_bow = tfidf.transform(X_validate)\n",
    "    print(f'validation accuracy score at max_depth={i}\\\n",
    " is: {tree.score(X_val_bow, y_validate)}')\n",
    "    print()"
   ]
  },
  {
   "cell_type": "code",
   "execution_count": 27,
   "id": "fabbd249-41ca-4371-b4f9-363c2af7130c",
   "metadata": {},
   "outputs": [
    {
     "name": "stdout",
     "output_type": "stream",
     "text": [
      "test data accuracy score at max_depth=10 is: 0.9323250448602922\n"
     ]
    }
   ],
   "source": [
    "X_test_bow = tfidf.transform(X_test)\n",
    "print(f'test data accuracy score at max_depth={i} is: {tree.score(X_test_b ow, y_test)}')"
   ]
  },
  {
   "cell_type": "code",
   "execution_count": 28,
   "id": "e82c6212-bce5-4c71-b635-9dc65a983c2b",
   "metadata": {},
   "outputs": [
    {
     "data": {
      "text/plain": [
       "call           0.388579\n",
       "txt            0.208289\n",
       "mobile         0.096080\n",
       "unsubscribe    0.071998\n",
       "rply           0.037521\n",
       "dtype: float64"
      ]
     },
     "execution_count": 28,
     "metadata": {},
     "output_type": "execute_result"
    }
   ],
   "source": [
    "pd.Series(\n",
    "    dict(\n",
    "    zip(tfidf.get_feature_names_out(), \n",
    "    tree.feature_importances_))).sort_values(ascending=False).head()"
   ]
  },
  {
   "cell_type": "code",
   "execution_count": null,
   "id": "42473ee7-c440-4bcf-b462-cf75e185ad6e",
   "metadata": {},
   "outputs": [],
   "source": []
  }
 ],
 "metadata": {
  "kernelspec": {
   "display_name": "Python 3 (ipykernel)",
   "language": "python",
   "name": "python3"
  },
  "language_info": {
   "codemirror_mode": {
    "name": "ipython",
    "version": 3
   },
   "file_extension": ".py",
   "mimetype": "text/x-python",
   "name": "python",
   "nbconvert_exporter": "python",
   "pygments_lexer": "ipython3",
   "version": "3.10.12"
  }
 },
 "nbformat": 4,
 "nbformat_minor": 5
}
