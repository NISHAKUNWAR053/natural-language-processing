{
 "cells": [
  {
   "cell_type": "markdown",
   "id": "b8218c47-a2f5-4bcc-98d8-ef7283012309",
   "metadata": {},
   "source": [
    "# In this exercise we will be defining some functions to prepare textual data. These functions should apply equally well to both the codeup blog articles and the news articles that were previously acquired.\n",
    "\n",
    "\n"
   ]
  },
  {
   "cell_type": "code",
   "execution_count": 1,
   "id": "141e23b2-40ff-45f9-b463-ba38d9f7a918",
   "metadata": {},
   "outputs": [],
   "source": [
    "import pandas as pd\n",
    "\n",
    "import unicodedata\n",
    "import re\n",
    "\n",
    "import nltk\n",
    "from nltk.tokenize.toktok import ToktokTokenizer\n",
    "from nltk.corpus import stopwords\n"
   ]
  },
  {
   "cell_type": "markdown",
   "id": "6b9a4f3c-b249-4f8c-bda4-bdbd335653d9",
   "metadata": {},
   "source": [
    "# 1.Define a function named basic_clean. It should take in a string and apply some basic text cleaning to it:\n",
    "- Lowercase everything\n",
    "- Normalize unicode characters\n",
    "- Replace anything that is not a letter, number, whitespace or a single quote.\n"
   ]
  },
  {
   "cell_type": "code",
   "execution_count": 2,
   "id": "dc07ad98-a888-4880-97ca-038927a0b748",
   "metadata": {},
   "outputs": [],
   "source": [
    "original = \"Paul Erdős and George Pólya were influential Hungarian mathematicians who contributed \\\n",
    "a lot to the field. Erdős's name contains the Hungarian letter 'ő' ('o' with double acute accent), \\\n",
    "but is often incorrectly written as Erdos or Erdös either by mistake or out of typographical necessity\""
   ]
  },
  {
   "cell_type": "code",
   "execution_count": 3,
   "id": "d7c56149-0ea4-4b97-aa98-5ee6bbe369a1",
   "metadata": {},
   "outputs": [
    {
     "data": {
      "text/plain": [
       "\"paul erdős and george pólya were influential hungarian mathematicians who contributed a lot to the field. erdős's name contains the hungarian letter 'ő' ('o' with double acute accent), but is often incorrectly written as erdos or erdös either by mistake or out of typographical necessity\""
      ]
     },
     "execution_count": 3,
     "metadata": {},
     "output_type": "execute_result"
    }
   ],
   "source": [
    "new = original.lower()\n",
    "new"
   ]
  },
  {
   "cell_type": "code",
   "execution_count": 4,
   "id": "4f8699bd-e5bc-44b0-9462-cbc985b5a7a6",
   "metadata": {},
   "outputs": [
    {
     "data": {
      "text/plain": [
       "\"paul erdos and george polya were influential hungarian mathematicians who contributed a lot to the field. erdos's name contains the hungarian letter 'o' ('o' with double acute accent), but is often incorrectly written as erdos or erdos either by mistake or out of typographical necessity\""
      ]
     },
     "execution_count": 4,
     "metadata": {},
     "output_type": "execute_result"
    }
   ],
   "source": [
    "new = unicodedata.normalize('NFKD' , new)\\\n",
    "    .encode('ascii', 'ignore')\\\n",
    "    .decode('utf-8')\n",
    "new"
   ]
  },
  {
   "cell_type": "code",
   "execution_count": 5,
   "id": "510ae554-8aaa-4720-9b9d-d15f6dede6fb",
   "metadata": {},
   "outputs": [
    {
     "data": {
      "text/plain": [
       "\"paul erdos and george polya were influential hungarian mathematicians who contributed a lot to the field  erdos's name contains the hungarian letter 'o'  'o' with double acute accent   but is often incorrectly written as erdos or erdos either by mistake or out of typographical necessity\""
      ]
     },
     "execution_count": 5,
     "metadata": {},
     "output_type": "execute_result"
    }
   ],
   "source": [
    "new = re.sub(r'[^a-z0-9\\'\\s]', ' ', new)\n",
    "new"
   ]
  },
  {
   "cell_type": "code",
   "execution_count": 6,
   "id": "a53e9204-75e2-4870-b501-9378f8a4a667",
   "metadata": {},
   "outputs": [],
   "source": [
    "def basic_clean(original):\n",
    "    '''\n",
    "    Input: original text \n",
    "    lowercase everything,\n",
    "    normalize everything, \n",
    "    removes anything thats not letter, number, whitespace or single quote\n",
    "    Output: Cleaned text\n",
    "    '''\n",
    "    basic_cleaned= original.lower()#lowercase everything\n",
    "    basic_cleaned = unicodedata.normalize('NFKD', basic_cleaned)\\\n",
    "    .encode('ascii', 'ignore')\\\n",
    "    .decode('utf-8')\n",
    " # normalize unicode character\n",
    "    basic_cleaned = re.sub(r'[^a-z0-9\\'\\s]', ' ', new)\n",
    "\n",
    "    return basic_cleaned\n",
    "    "
   ]
  },
  {
   "cell_type": "code",
   "execution_count": 7,
   "id": "3e172af3-0851-4b00-9609-0efee9576399",
   "metadata": {},
   "outputs": [
    {
     "data": {
      "text/plain": [
       "\"Paul Erdős and George Pólya were influential Hungarian mathematicians who contributed a lot to the field. Erdős's name contains the Hungarian letter 'ő' ('o' with double acute accent), but is often incorrectly written as Erdos or Erdös either by mistake or out of typographical necessity\""
      ]
     },
     "execution_count": 7,
     "metadata": {},
     "output_type": "execute_result"
    }
   ],
   "source": [
    "original"
   ]
  },
  {
   "cell_type": "code",
   "execution_count": 9,
   "id": "be0837e3-6c39-4e90-bf97-b58983c9f13c",
   "metadata": {},
   "outputs": [],
   "source": [
    "basic_cleaned = basic_clean(original)"
   ]
  },
  {
   "cell_type": "code",
   "execution_count": 10,
   "id": "6c499cd4-c51b-4b71-ad43-a682a5862929",
   "metadata": {},
   "outputs": [
    {
     "data": {
      "text/plain": [
       "\"paul erdos and george polya were influential hungarian mathematicians who contributed a lot to the field  erdos's name contains the hungarian letter 'o'  'o' with double acute accent   but is often incorrectly written as erdos or erdos either by mistake or out of typographical necessity\""
      ]
     },
     "execution_count": 10,
     "metadata": {},
     "output_type": "execute_result"
    }
   ],
   "source": [
    "basic_cleaned"
   ]
  },
  {
   "cell_type": "markdown",
   "id": "9dc4835f-4a8d-4813-b786-4851c012de5a",
   "metadata": {},
   "source": [
    "# 2. Define a function named tokenize. It should take in a string and tokenize all the words in the string."
   ]
  },
  {
   "cell_type": "code",
   "execution_count": 12,
   "id": "c80f2176-e859-4d19-a6a4-798c9f9eadd6",
   "metadata": {},
   "outputs": [],
   "source": [
    "tokenize = nltk.tokenize.ToktokTokenizer()# created tokenizer"
   ]
  },
  {
   "cell_type": "code",
   "execution_count": 16,
   "id": "742e47c0-1382-4cab-88b0-5ba1c6ac6e9d",
   "metadata": {},
   "outputs": [],
   "source": [
    "original = tokenize.tokenize(original, return_str = True)"
   ]
  },
  {
   "cell_type": "code",
   "execution_count": 17,
   "id": "ccbebf18-b129-4202-a58e-ed73c925916a",
   "metadata": {},
   "outputs": [],
   "source": [
    "def tokenize(basic_cleaned):\n",
    "    '''\n",
    "    Input: basic_cleaned text string\n",
    "    Actions:\n",
    "    creates the tokenizer\n",
    "    uses the tokenizer\n",
    "    Output: clean_tokenize text string\n",
    "    '''\n",
    "    #create the tokenizer\n",
    "    tokenize = nltk.tokenize.ToktokTokenizer()\n",
    "    #use the tokenizer\n",
    "    clean_tokenize = tokenize.tokenize(basic_cleaned, return_str=True)\n",
    "    \n",
    "    return clean_tokenize"
   ]
  },
  {
   "cell_type": "code",
   "execution_count": 19,
   "id": "787fcf6c-bfc2-4382-961e-aea123a5586e",
   "metadata": {},
   "outputs": [
    {
     "data": {
      "text/plain": [
       "\"Paul Erdős and George Pólya were influential Hungarian mathematicians who contributed a lot to the field. Erdős ' s name contains the Hungarian letter ' ő ' ( ' o ' with double acute accent ) , but is often incorrectly written as Erdos or Erdös either by mistake or out of typographical necessity\""
      ]
     },
     "execution_count": 19,
     "metadata": {},
     "output_type": "execute_result"
    }
   ],
   "source": [
    "original"
   ]
  },
  {
   "cell_type": "code",
   "execution_count": 18,
   "id": "7a952bc4-c88f-4512-9269-c7227fe708d8",
   "metadata": {},
   "outputs": [],
   "source": [
    "clean_tokenize = tokenize(basic_cleaned)\n"
   ]
  },
  {
   "cell_type": "code",
   "execution_count": 20,
   "id": "4ee4c898-6078-4e82-b54b-4cb36f48147d",
   "metadata": {},
   "outputs": [
    {
     "data": {
      "text/plain": [
       "\"paul erdos and george polya were influential hungarian mathematicians who contributed a lot to the field erdos ' s name contains the hungarian letter ' o ' ' o ' with double acute accent but is often incorrectly written as erdos or erdos either by mistake or out of typographical necessity\""
      ]
     },
     "execution_count": 20,
     "metadata": {},
     "output_type": "execute_result"
    }
   ],
   "source": [
    "clean_tokenize\n"
   ]
  },
  {
   "cell_type": "markdown",
   "id": "a9a3991e-f2a8-4171-91b8-03d45ae0bbea",
   "metadata": {},
   "source": [
    "# 3. Define a function named stem. It should accept some text and return the text after applying stemming to all the words."
   ]
  },
  {
   "cell_type": "code",
   "execution_count": 21,
   "id": "61a621d4-f9c7-47e2-bbe6-d6b71379def2",
   "metadata": {},
   "outputs": [],
   "source": [
    "stemmer = nltk.porter.PorterStemmer()#create porter stemmer"
   ]
  },
  {
   "cell_type": "code",
   "execution_count": 24,
   "id": "07dcd5db-1d14-4259-9e9c-25af11310fbf",
   "metadata": {},
   "outputs": [],
   "source": [
    "stems = [stemmer.stem(word) for word in original.split()]    #use stemmer - apply stem to each word in our string\n"
   ]
  },
  {
   "cell_type": "code",
   "execution_count": 25,
   "id": "03dbfe21-cc97-4bc7-b965-0435934bdf0c",
   "metadata": {},
   "outputs": [],
   "source": [
    "article_stemmed = ' '.join(stems)"
   ]
  },
  {
   "cell_type": "code",
   "execution_count": 27,
   "id": "7e497f9d-2b66-4755-9f38-2c939984471e",
   "metadata": {},
   "outputs": [],
   "source": [
    "def stem(clean_tokenize):\n",
    "    '''\n",
    "    Inputs: clean_tokenize\n",
    "    Actions: creates and uses stemmer for each word\n",
    "    Output: clean_tokenize_stem\n",
    "    '''\n",
    "    stemmer = nltk.porter.PorterStemmer()\n",
    "    stems = [stemmer.stem(word) for word in clean_tokenize.split()]\n",
    "    clean_tokenize_stem = ' '.join(stems)\n",
    "\n",
    "    return clean_tokenize_stem\n",
    "    "
   ]
  },
  {
   "cell_type": "code",
   "execution_count": 28,
   "id": "0378b31e-4aab-40e3-92ee-422ce36c612a",
   "metadata": {},
   "outputs": [],
   "source": [
    "clean_tokenize_stem = stem(clean_tokenize)"
   ]
  },
  {
   "cell_type": "code",
   "execution_count": 29,
   "id": "018398d3-8a47-4b64-81b1-f69726a84872",
   "metadata": {},
   "outputs": [
    {
     "data": {
      "text/plain": [
       "\"paul erdo and georg polya were influenti hungarian mathematician who contribut a lot to the field erdo ' s name contain the hungarian letter ' o ' ' o ' with doubl acut accent but is often incorrectli written as erdo or erdo either by mistak or out of typograph necess\""
      ]
     },
     "execution_count": 29,
     "metadata": {},
     "output_type": "execute_result"
    }
   ],
   "source": [
    "clean_tokenize_stem"
   ]
  },
  {
   "cell_type": "markdown",
   "id": "481a037b-1283-4874-b01e-2eb894d73fd5",
   "metadata": {},
   "source": [
    "# 4. Define a function named lemmatize. It should accept some text and return the text after applying lemmatization to each word."
   ]
  },
  {
   "cell_type": "code",
   "execution_count": null,
   "id": "c7fb41dd-5ed5-4007-a822-41828e7aca95",
   "metadata": {},
   "outputs": [],
   "source": []
  }
 ],
 "metadata": {
  "kernelspec": {
   "display_name": "Python 3 (ipykernel)",
   "language": "python",
   "name": "python3"
  },
  "language_info": {
   "codemirror_mode": {
    "name": "ipython",
    "version": 3
   },
   "file_extension": ".py",
   "mimetype": "text/x-python",
   "name": "python",
   "nbconvert_exporter": "python",
   "pygments_lexer": "ipython3",
   "version": "3.10.12"
  }
 },
 "nbformat": 4,
 "nbformat_minor": 5
}
