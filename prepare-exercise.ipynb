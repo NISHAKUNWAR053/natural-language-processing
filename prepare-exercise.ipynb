{
 "cells": [
  {
   "cell_type": "markdown",
   "id": "b8218c47-a2f5-4bcc-98d8-ef7283012309",
   "metadata": {},
   "source": [
    "# In this exercise we will be defining some functions to prepare textual data. These functions should apply equally well to both the codeup blog articles and the news articles that were previously acquired.\n",
    "\n",
    "\n"
   ]
  },
  {
   "cell_type": "code",
   "execution_count": 1,
   "id": "141e23b2-40ff-45f9-b463-ba38d9f7a918",
   "metadata": {},
   "outputs": [],
   "source": [
    "import pandas as pd\n",
    "\n",
    "import unicodedata\n",
    "import re\n",
    "\n",
    "import nltk\n",
    "from nltk.tokenize.toktok import ToktokTokenizer\n",
    "from nltk.corpus import stopwords\n",
    "import requests\n",
    "from bs4 import BeautifulSoup"
   ]
  },
  {
   "cell_type": "markdown",
   "id": "6b9a4f3c-b249-4f8c-bda4-bdbd335653d9",
   "metadata": {},
   "source": [
    "# 1.Define a function named basic_clean. It should take in a string and apply some basic text cleaning to it:\n",
    "- Lowercase everything\n",
    "- Normalize unicode characters\n",
    "- Replace anything that is not a letter, number, whitespace or a single quote.\n"
   ]
  },
  {
   "cell_type": "code",
   "execution_count": 2,
   "id": "dc07ad98-a888-4880-97ca-038927a0b748",
   "metadata": {},
   "outputs": [],
   "source": [
    "original = \"Paul Erdős and George Pólya were influential Hungarian mathematicians who contributed \\\n",
    "a lot to the field. Erdős's name contains the Hungarian letter 'ő' ('o' with double acute accent), \\\n",
    "but is often incorrectly written as Erdos or Erdös either by mistake or out of typographical necessity\""
   ]
  },
  {
   "cell_type": "code",
   "execution_count": 3,
   "id": "d7c56149-0ea4-4b97-aa98-5ee6bbe369a1",
   "metadata": {},
   "outputs": [
    {
     "data": {
      "text/plain": [
       "\"paul erdős and george pólya were influential hungarian mathematicians who contributed a lot to the field. erdős's name contains the hungarian letter 'ő' ('o' with double acute accent), but is often incorrectly written as erdos or erdös either by mistake or out of typographical necessity\""
      ]
     },
     "execution_count": 3,
     "metadata": {},
     "output_type": "execute_result"
    }
   ],
   "source": [
    "new = original.lower()\n",
    "new"
   ]
  },
  {
   "cell_type": "code",
   "execution_count": 4,
   "id": "4f8699bd-e5bc-44b0-9462-cbc985b5a7a6",
   "metadata": {},
   "outputs": [
    {
     "data": {
      "text/plain": [
       "\"paul erdos and george polya were influential hungarian mathematicians who contributed a lot to the field. erdos's name contains the hungarian letter 'o' ('o' with double acute accent), but is often incorrectly written as erdos or erdos either by mistake or out of typographical necessity\""
      ]
     },
     "execution_count": 4,
     "metadata": {},
     "output_type": "execute_result"
    }
   ],
   "source": [
    "new = unicodedata.normalize('NFKD' , new)\\\n",
    "    .encode('ascii', 'ignore')\\\n",
    "    .decode('utf-8')\n",
    "new"
   ]
  },
  {
   "cell_type": "code",
   "execution_count": 5,
   "id": "510ae554-8aaa-4720-9b9d-d15f6dede6fb",
   "metadata": {},
   "outputs": [
    {
     "data": {
      "text/plain": [
       "\"paul erdos and george polya were influential hungarian mathematicians who contributed a lot to the field  erdos's name contains the hungarian letter 'o'  'o' with double acute accent   but is often incorrectly written as erdos or erdos either by mistake or out of typographical necessity\""
      ]
     },
     "execution_count": 5,
     "metadata": {},
     "output_type": "execute_result"
    }
   ],
   "source": [
    "new = re.sub(r'[^a-z0-9\\'\\s]', ' ', new)\n",
    "new"
   ]
  },
  {
   "cell_type": "code",
   "execution_count": 6,
   "id": "a53e9204-75e2-4870-b501-9378f8a4a667",
   "metadata": {},
   "outputs": [],
   "source": [
    "def basic_clean(original):\n",
    "    '''\n",
    "    Input: original text \n",
    "    lowercase everything,\n",
    "    normalize everything, \n",
    "    removes anything thats not letter, number, whitespace or single quote\n",
    "    Output: Cleaned text\n",
    "    '''\n",
    "    basic_cleaned= original.lower()#lowercase everything\n",
    "    basic_cleaned = unicodedata.normalize('NFKD', basic_cleaned)\\\n",
    "    .encode('ascii', 'ignore')\\\n",
    "    .decode('utf-8')\n",
    " # normalize unicode character\n",
    "    basic_cleaned = re.sub(r'[^a-z0-9\\'\\s]', ' ', new)\n",
    "\n",
    "    return basic_cleaned\n",
    "    "
   ]
  },
  {
   "cell_type": "code",
   "execution_count": 7,
   "id": "3e172af3-0851-4b00-9609-0efee9576399",
   "metadata": {},
   "outputs": [
    {
     "data": {
      "text/plain": [
       "\"Paul Erdős and George Pólya were influential Hungarian mathematicians who contributed a lot to the field. Erdős's name contains the Hungarian letter 'ő' ('o' with double acute accent), but is often incorrectly written as Erdos or Erdös either by mistake or out of typographical necessity\""
      ]
     },
     "execution_count": 7,
     "metadata": {},
     "output_type": "execute_result"
    }
   ],
   "source": [
    "original"
   ]
  },
  {
   "cell_type": "code",
   "execution_count": 8,
   "id": "be0837e3-6c39-4e90-bf97-b58983c9f13c",
   "metadata": {},
   "outputs": [],
   "source": [
    "basic_cleaned = basic_clean(original)"
   ]
  },
  {
   "cell_type": "code",
   "execution_count": 9,
   "id": "6c499cd4-c51b-4b71-ad43-a682a5862929",
   "metadata": {},
   "outputs": [
    {
     "data": {
      "text/plain": [
       "\"paul erdos and george polya were influential hungarian mathematicians who contributed a lot to the field  erdos's name contains the hungarian letter 'o'  'o' with double acute accent   but is often incorrectly written as erdos or erdos either by mistake or out of typographical necessity\""
      ]
     },
     "execution_count": 9,
     "metadata": {},
     "output_type": "execute_result"
    }
   ],
   "source": [
    "basic_cleaned"
   ]
  },
  {
   "cell_type": "markdown",
   "id": "9dc4835f-4a8d-4813-b786-4851c012de5a",
   "metadata": {},
   "source": [
    "# 2. Define a function named tokenize. It should take in a string and tokenize all the words in the string."
   ]
  },
  {
   "cell_type": "code",
   "execution_count": 10,
   "id": "c80f2176-e859-4d19-a6a4-798c9f9eadd6",
   "metadata": {},
   "outputs": [],
   "source": [
    "tokenize = nltk.tokenize.ToktokTokenizer()# created tokenizer"
   ]
  },
  {
   "cell_type": "code",
   "execution_count": 11,
   "id": "742e47c0-1382-4cab-88b0-5ba1c6ac6e9d",
   "metadata": {},
   "outputs": [],
   "source": [
    "original = tokenize.tokenize(original, return_str = True)"
   ]
  },
  {
   "cell_type": "code",
   "execution_count": 12,
   "id": "ccbebf18-b129-4202-a58e-ed73c925916a",
   "metadata": {},
   "outputs": [],
   "source": [
    "def tokenize(basic_cleaned):\n",
    "    '''\n",
    "    Input: basic_cleaned text string\n",
    "    Actions:\n",
    "    creates the tokenizer\n",
    "    uses the tokenizer\n",
    "    Output: clean_tokenize text string\n",
    "    '''\n",
    "    #create the tokenizer\n",
    "    tokenize = nltk.tokenize.ToktokTokenizer()\n",
    "    #use the tokenizer\n",
    "    clean_tokenize = tokenize.tokenize(basic_cleaned, return_str=True)\n",
    "    \n",
    "    return clean_tokenize"
   ]
  },
  {
   "cell_type": "code",
   "execution_count": 13,
   "id": "787fcf6c-bfc2-4382-961e-aea123a5586e",
   "metadata": {},
   "outputs": [
    {
     "data": {
      "text/plain": [
       "\"Paul Erdős and George Pólya were influential Hungarian mathematicians who contributed a lot to the field. Erdős ' s name contains the Hungarian letter ' ő ' ( ' o ' with double acute accent ) , but is often incorrectly written as Erdos or Erdös either by mistake or out of typographical necessity\""
      ]
     },
     "execution_count": 13,
     "metadata": {},
     "output_type": "execute_result"
    }
   ],
   "source": [
    "original"
   ]
  },
  {
   "cell_type": "code",
   "execution_count": 14,
   "id": "7a952bc4-c88f-4512-9269-c7227fe708d8",
   "metadata": {},
   "outputs": [],
   "source": [
    "clean_tokenize = tokenize(basic_cleaned)\n"
   ]
  },
  {
   "cell_type": "code",
   "execution_count": 15,
   "id": "4ee4c898-6078-4e82-b54b-4cb36f48147d",
   "metadata": {},
   "outputs": [
    {
     "data": {
      "text/plain": [
       "\"paul erdos and george polya were influential hungarian mathematicians who contributed a lot to the field erdos ' s name contains the hungarian letter ' o ' ' o ' with double acute accent but is often incorrectly written as erdos or erdos either by mistake or out of typographical necessity\""
      ]
     },
     "execution_count": 15,
     "metadata": {},
     "output_type": "execute_result"
    }
   ],
   "source": [
    "clean_tokenize\n"
   ]
  },
  {
   "cell_type": "markdown",
   "id": "a9a3991e-f2a8-4171-91b8-03d45ae0bbea",
   "metadata": {},
   "source": [
    "# 3. Define a function named stem. It should accept some text and return the text after applying stemming to all the words."
   ]
  },
  {
   "cell_type": "code",
   "execution_count": 16,
   "id": "61a621d4-f9c7-47e2-bbe6-d6b71379def2",
   "metadata": {},
   "outputs": [],
   "source": [
    "stemmer = nltk.porter.PorterStemmer()#create porter stemmer"
   ]
  },
  {
   "cell_type": "code",
   "execution_count": 17,
   "id": "07dcd5db-1d14-4259-9e9c-25af11310fbf",
   "metadata": {},
   "outputs": [],
   "source": [
    "stems = [stemmer.stem(word) for word in original.split()]    #use stemmer - apply stem to each word in our string\n"
   ]
  },
  {
   "cell_type": "code",
   "execution_count": 18,
   "id": "03dbfe21-cc97-4bc7-b965-0435934bdf0c",
   "metadata": {},
   "outputs": [],
   "source": [
    "article_stemmed = ' '.join(stems)"
   ]
  },
  {
   "cell_type": "code",
   "execution_count": 19,
   "id": "7e497f9d-2b66-4755-9f38-2c939984471e",
   "metadata": {},
   "outputs": [],
   "source": [
    "def stem(clean_tokenize):\n",
    "    '''\n",
    "    Inputs: clean_tokenize\n",
    "    Actions: creates and uses stemmer for each word\n",
    "    Output: clean_tokenize_stem\n",
    "    '''\n",
    "    stemmer = nltk.porter.PorterStemmer()\n",
    "    stems = [stemmer.stem(word) for word in clean_tokenize.split()]\n",
    "    clean_tokenize_stem = ' '.join(stems)\n",
    "\n",
    "    return clean_tokenize_stem\n",
    "    "
   ]
  },
  {
   "cell_type": "code",
   "execution_count": 20,
   "id": "0378b31e-4aab-40e3-92ee-422ce36c612a",
   "metadata": {},
   "outputs": [],
   "source": [
    "clean_tokenize_stem = stem(clean_tokenize)"
   ]
  },
  {
   "cell_type": "code",
   "execution_count": 21,
   "id": "018398d3-8a47-4b64-81b1-f69726a84872",
   "metadata": {},
   "outputs": [
    {
     "data": {
      "text/plain": [
       "\"paul erdo and georg polya were influenti hungarian mathematician who contribut a lot to the field erdo ' s name contain the hungarian letter ' o ' ' o ' with doubl acut accent but is often incorrectli written as erdo or erdo either by mistak or out of typograph necess\""
      ]
     },
     "execution_count": 21,
     "metadata": {},
     "output_type": "execute_result"
    }
   ],
   "source": [
    "clean_tokenize_stem"
   ]
  },
  {
   "cell_type": "markdown",
   "id": "481a037b-1283-4874-b01e-2eb894d73fd5",
   "metadata": {},
   "source": [
    "# 4. Define a function named lemmatize. It should accept some text and return the text after applying lemmatization to each word."
   ]
  },
  {
   "cell_type": "code",
   "execution_count": 22,
   "id": "7ab8fda3-2420-400e-ba83-0f2e6389f76c",
   "metadata": {},
   "outputs": [],
   "source": [
    "wnl = nltk.stem.WordNetLemmatizer()\n"
   ]
  },
  {
   "cell_type": "code",
   "execution_count": 23,
   "id": "9fda8a6e-4d77-4997-9e7e-625b05bba784",
   "metadata": {},
   "outputs": [],
   "source": [
    "lemmas = [wnl.lemmatize(word) for word in original.split()]\n"
   ]
  },
  {
   "cell_type": "code",
   "execution_count": 24,
   "id": "21c72f17-dbc3-4010-940f-99a6cfb2b189",
   "metadata": {},
   "outputs": [],
   "source": [
    "article_lemma = ' '.join(lemmas)"
   ]
  },
  {
   "cell_type": "code",
   "execution_count": 25,
   "id": "6563a6f9-072d-44e7-a559-ae05dcd55545",
   "metadata": {},
   "outputs": [],
   "source": [
    "def lemmatize(clean_tokenize):\n",
    "    '''\n",
    "    Input: clean_tokenize\n",
    "    Actions: cretaes lemmatizer and applies to each word\n",
    "    Outputs: clean_tokenize_lemma\n",
    "    '''\n",
    "    wnl = nltk.stem.WordNetLemmatizer()\n",
    "    lemmas = [wnl.lemmatize(word) for word in clean_tokenize.split()]\n",
    "    clean_tokenize_lemma = ' '.join(lemmas)\n",
    "\n",
    "    return clean_tokenize_lemma\n",
    "    \n",
    "\n",
    "    "
   ]
  },
  {
   "cell_type": "code",
   "execution_count": 26,
   "id": "ca503510-a012-4b45-81f3-896b43e64696",
   "metadata": {},
   "outputs": [
    {
     "data": {
      "text/plain": [
       "\"paul erdos and george polya were influential hungarian mathematician who contributed a lot to the field erdos ' s name contains the hungarian letter ' o ' ' o ' with double acute accent but is often incorrectly written a erdos or erdos either by mistake or out of typographical necessity\""
      ]
     },
     "execution_count": 26,
     "metadata": {},
     "output_type": "execute_result"
    }
   ],
   "source": [
    "clean_tokenize_lemma = lemmatize(clean_tokenize)\n",
    "clean_tokenize_lemma"
   ]
  },
  {
   "cell_type": "markdown",
   "id": "bde0b0a2-c2a2-4eee-b875-c81fce14869b",
   "metadata": {},
   "source": [
    "# 5. Define a function named remove_stopwords. It should accept some text and return the text after removing all the stopwords.\n",
    "\n",
    "- This function should define two optional parameters, extra_words and exclude_words. These parameters should define any additional stop words to include, and any words that we don't want to remove.\n",
    "\n"
   ]
  },
  {
   "cell_type": "code",
   "execution_count": 27,
   "id": "12e9ad96-744b-4268-8fa6-401b90313321",
   "metadata": {},
   "outputs": [],
   "source": [
    "stopwords_ls = stopwords.words('english')"
   ]
  },
  {
   "cell_type": "code",
   "execution_count": 28,
   "id": "0a180284-7676-4032-bce5-14ea07178c06",
   "metadata": {},
   "outputs": [],
   "source": [
    "words = article_lemma.split()"
   ]
  },
  {
   "cell_type": "code",
   "execution_count": 29,
   "id": "3aacdcad-8637-4c8f-b712-b3a6dc0eb331",
   "metadata": {},
   "outputs": [],
   "source": [
    "stopwords_ls.append(' ')"
   ]
  },
  {
   "cell_type": "code",
   "execution_count": 30,
   "id": "a90ffa24-5312-47d6-901b-adac60ac7215",
   "metadata": {},
   "outputs": [],
   "source": [
    "filtered = [word for word in words if word not in stopwords_ls]\n"
   ]
  },
  {
   "cell_type": "code",
   "execution_count": 31,
   "id": "70a811f4-7457-45c4-b4c6-3a95ef1adcc6",
   "metadata": {},
   "outputs": [],
   "source": [
    "parsed_aricles = ' '.join(filtered)"
   ]
  },
  {
   "cell_type": "code",
   "execution_count": 32,
   "id": "66847c0f-61e2-4897-b203-763140f2de0e",
   "metadata": {},
   "outputs": [],
   "source": [
    "def remove_stopwords(lemma_or_stem, extra_words=[], exclude_words=[]):\n",
    "    '''\n",
    "    Input:text string or .apply(remove_stopwords) to entire data frame\n",
    "    Action: removes standard stop words\n",
    "    Output: parsed_article\n",
    "    '''\n",
    "    # save stopwords\n",
    "    stopwords_ls = stopwords.words('english')\n",
    "    # removing any stopwords in exclude list\n",
    "    stopwords_ls = set(stopwords_ls) - set(exclude_words)\n",
    "    # adding any stopwords in extra list\n",
    "    stopwords_ls = stopwords_ls.union(set(extra_words))\n",
    "    \n",
    "    # split words in article\n",
    "    words = lemma_or_stem.split()\n",
    "    # remove stopwords from list of words\n",
    "    filtered = [word for word in words if word not in stopwords_ls]\n",
    "    # join words back together\n",
    "    parsed_article = ' '.join(filtered)\n",
    "    \n",
    "    return parsed_article"
   ]
  },
  {
   "cell_type": "code",
   "execution_count": 33,
   "id": "b14474bb-9ac9-4da0-9e13-d15b7af85d18",
   "metadata": {},
   "outputs": [
    {
     "data": {
      "text/plain": [
       "\"paul erdos george polya influential hungarian mathematician contributed lot field erdos ' name contains hungarian letter ' ' ' ' double acute accent often incorrectly written erdos erdos either mistake typographical necessity\""
      ]
     },
     "execution_count": 33,
     "metadata": {},
     "output_type": "execute_result"
    }
   ],
   "source": [
    "parsed_article = remove_stopwords(clean_tokenize_lemma)\n",
    "parsed_article"
   ]
  },
  {
   "cell_type": "markdown",
   "id": "b7b77f95-bb6e-44ac-af1e-1127687d3b50",
   "metadata": {},
   "source": [
    "# 6.Use your data from the acquire to produce a dataframe of the news articles. Name the dataframe news_df.\n",
    "\n"
   ]
  },
  {
   "cell_type": "code",
   "execution_count": 34,
   "id": "2152fc76-0cbc-4a43-a384-f502ff58a232",
   "metadata": {},
   "outputs": [],
   "source": [
    "import acquire as a"
   ]
  },
  {
   "cell_type": "code",
   "execution_count": 35,
   "id": "a4dfe525-b800-4b79-b9e1-b5f56acf23a2",
   "metadata": {},
   "outputs": [
    {
     "name": "stdout",
     "output_type": "stream",
     "text": [
      "get_blog_articles2()\n",
      "scrape_one_page(topic)\n",
      "get_news_articles(topic_list)\n"
     ]
    }
   ],
   "source": [
    "a.acquire_info()\n"
   ]
  },
  {
   "cell_type": "code",
   "execution_count": 36,
   "id": "765bd0c1-4ce9-4a1d-81fe-5edf912af2dd",
   "metadata": {},
   "outputs": [],
   "source": [
    "topic_list = ['business', 'sports', 'technology', 'entertainment']\n"
   ]
  },
  {
   "cell_type": "code",
   "execution_count": 37,
   "id": "e7651596-3b31-4a39-9a07-308e0d7ecd59",
   "metadata": {},
   "outputs": [],
   "source": [
    "final_list = a.get_news_articles(topic_list)\n"
   ]
  },
  {
   "cell_type": "code",
   "execution_count": 38,
   "id": "afcfc612-709c-4077-995b-bf4c7271e8bc",
   "metadata": {},
   "outputs": [
    {
     "data": {
      "text/html": [
       "<div>\n",
       "<style scoped>\n",
       "    .dataframe tbody tr th:only-of-type {\n",
       "        vertical-align: middle;\n",
       "    }\n",
       "\n",
       "    .dataframe tbody tr th {\n",
       "        vertical-align: top;\n",
       "    }\n",
       "\n",
       "    .dataframe thead th {\n",
       "        text-align: right;\n",
       "    }\n",
       "</style>\n",
       "<table border=\"1\" class=\"dataframe\">\n",
       "  <thead>\n",
       "    <tr style=\"text-align: right;\">\n",
       "      <th></th>\n",
       "      <th>category</th>\n",
       "      <th>title</th>\n",
       "      <th>content</th>\n",
       "    </tr>\n",
       "  </thead>\n",
       "  <tbody>\n",
       "    <tr>\n",
       "      <th>0</th>\n",
       "      <td>business</td>\n",
       "      <td>Jio Financial Services' Q2 profit jumps 101% Q...</td>\n",
       "      <td>Jio Financial Services posted a net profit of ...</td>\n",
       "    </tr>\n",
       "    <tr>\n",
       "      <th>1</th>\n",
       "      <td>business</td>\n",
       "      <td>LinkedIn lays off 668 employees</td>\n",
       "      <td>Microsoft-owned LinkedIn on Monday said it wou...</td>\n",
       "    </tr>\n",
       "    <tr>\n",
       "      <th>2</th>\n",
       "      <td>business</td>\n",
       "      <td>6-month notice period for pilots not unreasona...</td>\n",
       "      <td>Akasa Air CEO Vinay Dube said a notice period ...</td>\n",
       "    </tr>\n",
       "    <tr>\n",
       "      <th>3</th>\n",
       "      <td>business</td>\n",
       "      <td>Some working overtime to harm us: Adani Group ...</td>\n",
       "      <td>Adani Group has reacted amid allegations of TM...</td>\n",
       "    </tr>\n",
       "    <tr>\n",
       "      <th>4</th>\n",
       "      <td>business</td>\n",
       "      <td>Oil prices steady above $90 as investors asses...</td>\n",
       "      <td>Brent oil prices steadied above $90 (over ₹7,4...</td>\n",
       "    </tr>\n",
       "    <tr>\n",
       "      <th>5</th>\n",
       "      <td>business</td>\n",
       "      <td>SC rejects telcos' plea to see licence fee as ...</td>\n",
       "      <td>The Supreme Court on Monday rejected a request...</td>\n",
       "    </tr>\n",
       "    <tr>\n",
       "      <th>6</th>\n",
       "      <td>business</td>\n",
       "      <td>SpiceJet stock dip amid 'Gangwal not intereste...</td>\n",
       "      <td>SpiceJet's shares tanked 11% on Monday after a...</td>\n",
       "    </tr>\n",
       "    <tr>\n",
       "      <th>7</th>\n",
       "      <td>business</td>\n",
       "      <td>HDFC Bank's Q2 profit jumps 50% to ₹15,976 crore</td>\n",
       "      <td>HDFC Bank on Monday reported a net profit of o...</td>\n",
       "    </tr>\n",
       "    <tr>\n",
       "      <th>8</th>\n",
       "      <td>business</td>\n",
       "      <td>What is the TCS bribes-for-jobs scandal?</td>\n",
       "      <td>The bribes-for-jobs scandal at Tata Consultanc...</td>\n",
       "    </tr>\n",
       "    <tr>\n",
       "      <th>9</th>\n",
       "      <td>business</td>\n",
       "      <td>BioNTech warns of write-off of up to ₹7,888 cr...</td>\n",
       "      <td>Germany's BioNTech flagged write-downs of up t...</td>\n",
       "    </tr>\n",
       "    <tr>\n",
       "      <th>10</th>\n",
       "      <td>sports</td>\n",
       "      <td>Mitchell Starc has never gone wicketless in OD...</td>\n",
       "      <td>Australia fast bowler Mitchell Starc, who regi...</td>\n",
       "    </tr>\n",
       "    <tr>\n",
       "      <th>11</th>\n",
       "      <td>sports</td>\n",
       "      <td>He's Pragyan on the ground: ISRO chief on meet...</td>\n",
       "      <td>ISRO Chairman S Somanath on Monday met Chess G...</td>\n",
       "    </tr>\n",
       "    <tr>\n",
       "      <th>12</th>\n",
       "      <td>sports</td>\n",
       "      <td>Pathetic, unacceptable: Farveez on SL losing 9...</td>\n",
       "      <td>Ex-Sri Lanka all-rounder Farveez Maharoof term...</td>\n",
       "    </tr>\n",
       "    <tr>\n",
       "      <th>13</th>\n",
       "      <td>sports</td>\n",
       "      <td>Pak's bowling a concern, they didn't stand cha...</td>\n",
       "      <td>Ex-India pacer Ashish Nehra said Pakistan's bo...</td>\n",
       "    </tr>\n",
       "    <tr>\n",
       "      <th>14</th>\n",
       "      <td>sports</td>\n",
       "      <td>How does the ODI World Cup 2023 points table r...</td>\n",
       "      <td>Australia on Monday registered their first vic...</td>\n",
       "    </tr>\n",
       "    <tr>\n",
       "      <th>15</th>\n",
       "      <td>sports</td>\n",
       "      <td>Pak was different in our time, this team can't...</td>\n",
       "      <td>Ex-India captain Sourav Ganguly opened up abou...</td>\n",
       "    </tr>\n",
       "    <tr>\n",
       "      <th>16</th>\n",
       "      <td>sports</td>\n",
       "      <td>An India-Pakistan series is not going to be co...</td>\n",
       "      <td>Ex-India opener Gautam Gambhir said India have...</td>\n",
       "    </tr>\n",
       "    <tr>\n",
       "      <th>17</th>\n",
       "      <td>sports</td>\n",
       "      <td>Spectacular collapse: Harsha as SL lose 9 wick...</td>\n",
       "      <td>Reacting to Sri Lanka losing their last nine w...</td>\n",
       "    </tr>\n",
       "    <tr>\n",
       "      <th>18</th>\n",
       "      <td>sports</td>\n",
       "      <td>David Warner gets angry, shouts after DRS rule...</td>\n",
       "      <td>Australia opener David Warner got angry and sh...</td>\n",
       "    </tr>\n",
       "    <tr>\n",
       "      <th>19</th>\n",
       "      <td>sports</td>\n",
       "      <td>Absolutely delighted: PM Modi on cricket's Oly...</td>\n",
       "      <td>Reacting to International Olympic Committee (I...</td>\n",
       "    </tr>\n",
       "    <tr>\n",
       "      <th>20</th>\n",
       "      <td>technology</td>\n",
       "      <td>PM Modi interacts with Google CEO Pichai, disc...</td>\n",
       "      <td>PM Narendra Modi on Monday virtually interacte...</td>\n",
       "    </tr>\n",
       "    <tr>\n",
       "      <th>21</th>\n",
       "      <td>technology</td>\n",
       "      <td>Apple's new tech can update software on unopen...</td>\n",
       "      <td>Apple has developed a pad-like device that can...</td>\n",
       "    </tr>\n",
       "    <tr>\n",
       "      <th>22</th>\n",
       "      <td>technology</td>\n",
       "      <td>LinkedIn lays off 668 employees</td>\n",
       "      <td>Microsoft-owned LinkedIn on Monday said it wou...</td>\n",
       "    </tr>\n",
       "    <tr>\n",
       "      <th>23</th>\n",
       "      <td>technology</td>\n",
       "      <td>Govt asks YouTube to add disclaimer to 'fake n...</td>\n",
       "      <td>IT Ministry has advised YouTube to put a \"news...</td>\n",
       "    </tr>\n",
       "    <tr>\n",
       "      <th>24</th>\n",
       "      <td>technology</td>\n",
       "      <td>What is the TCS bribes-for-jobs scandal?</td>\n",
       "      <td>The bribes-for-jobs scandal at Tata Consultanc...</td>\n",
       "    </tr>\n",
       "    <tr>\n",
       "      <th>25</th>\n",
       "      <td>technology</td>\n",
       "      <td>Twitch streamer Hasan Piker raises ₹5.6 cr for...</td>\n",
       "      <td>Hasan Piker, who livestreams videos on Twitch,...</td>\n",
       "    </tr>\n",
       "    <tr>\n",
       "      <th>26</th>\n",
       "      <td>technology</td>\n",
       "      <td>Activision Blizzard CEO to leave firm with $40...</td>\n",
       "      <td>Activision Blizzard CEO Bobby Kotick will leav...</td>\n",
       "    </tr>\n",
       "    <tr>\n",
       "      <th>27</th>\n",
       "      <td>technology</td>\n",
       "      <td>TCS to hire 40,000 freshers this year</td>\n",
       "      <td>Tata Consultancy Services (TCS) is on track to...</td>\n",
       "    </tr>\n",
       "    <tr>\n",
       "      <th>28</th>\n",
       "      <td>technology</td>\n",
       "      <td>High risk warning for iPhone 8 and later model...</td>\n",
       "      <td>The government's CERT-In has issued a high ris...</td>\n",
       "    </tr>\n",
       "    <tr>\n",
       "      <th>29</th>\n",
       "      <td>technology</td>\n",
       "      <td>Google, Microsoft chatbots falsely say there's...</td>\n",
       "      <td>Amid the Israel-Hamas war, Google's Bard and M...</td>\n",
       "    </tr>\n",
       "    <tr>\n",
       "      <th>30</th>\n",
       "      <td>entertainment</td>\n",
       "      <td>My entry in Budhni will be 'mangal': 'Ramayan'...</td>\n",
       "      <td>'Ramayan' actor Vikram Mastal, who will contes...</td>\n",
       "    </tr>\n",
       "    <tr>\n",
       "      <th>31</th>\n",
       "      <td>entertainment</td>\n",
       "      <td>Alia Bhatt is gifted, she is the best in this ...</td>\n",
       "      <td>Kareena Kapoor in an interview called Alia Bha...</td>\n",
       "    </tr>\n",
       "    <tr>\n",
       "      <th>32</th>\n",
       "      <td>entertainment</td>\n",
       "      <td>Was swept by his magic: Karan Johar on his fir...</td>\n",
       "      <td>Karan Johar, recalling his first meeting with ...</td>\n",
       "    </tr>\n",
       "    <tr>\n",
       "      <th>33</th>\n",
       "      <td>entertainment</td>\n",
       "      <td>Fatima reacts to comparisons with Kangana for ...</td>\n",
       "      <td>Fatima Sana Shaikh, who will be seen portrayin...</td>\n",
       "    </tr>\n",
       "    <tr>\n",
       "      <th>34</th>\n",
       "      <td>entertainment</td>\n",
       "      <td>Sunny left no stone unturned to show he was su...</td>\n",
       "      <td>Actor Bobby Deol, speaking about his actor-bro...</td>\n",
       "    </tr>\n",
       "    <tr>\n",
       "      <th>35</th>\n",
       "      <td>entertainment</td>\n",
       "      <td>Was concerned if it'd be accepted: Rani on SRK...</td>\n",
       "      <td>Rani Mukerji, on Kuch Kuch Hota Hai's 25th ann...</td>\n",
       "    </tr>\n",
       "    <tr>\n",
       "      <th>36</th>\n",
       "      <td>entertainment</td>\n",
       "      <td>Kajol dresses as Anjali on 25th anniversary of...</td>\n",
       "      <td>On the 25th anniversary of 'Kuch Kuch Hota Hai...</td>\n",
       "    </tr>\n",
       "    <tr>\n",
       "      <th>37</th>\n",
       "      <td>entertainment</td>\n",
       "      <td>I'm a fan of only 2 actors, that's Alia and Ra...</td>\n",
       "      <td>Actor Bobby Deol said that he is a fan of two ...</td>\n",
       "    </tr>\n",
       "    <tr>\n",
       "      <th>38</th>\n",
       "      <td>entertainment</td>\n",
       "      <td>Want to say I'm feminist because it means gend...</td>\n",
       "      <td>Actress Shefali Shah has said that if asked, s...</td>\n",
       "    </tr>\n",
       "    <tr>\n",
       "      <th>39</th>\n",
       "      <td>entertainment</td>\n",
       "      <td>SRK forgets Salman while thanking KKHH cast, r...</td>\n",
       "      <td>Marking 25th anniversary of 'Kuch Kuch Hota Ha...</td>\n",
       "    </tr>\n",
       "  </tbody>\n",
       "</table>\n",
       "</div>"
      ],
      "text/plain": [
       "         category                                              title  \\\n",
       "0        business  Jio Financial Services' Q2 profit jumps 101% Q...   \n",
       "1        business                LinkedIn lays off 668 employees       \n",
       "2        business  6-month notice period for pilots not unreasona...   \n",
       "3        business  Some working overtime to harm us: Adani Group ...   \n",
       "4        business  Oil prices steady above $90 as investors asses...   \n",
       "5        business  SC rejects telcos' plea to see licence fee as ...   \n",
       "6        business  SpiceJet stock dip amid 'Gangwal not intereste...   \n",
       "7        business   HDFC Bank's Q2 profit jumps 50% to ₹15,976 crore   \n",
       "8        business           What is the TCS bribes-for-jobs scandal?   \n",
       "9        business  BioNTech warns of write-off of up to ₹7,888 cr...   \n",
       "10         sports  Mitchell Starc has never gone wicketless in OD...   \n",
       "11         sports  He's Pragyan on the ground: ISRO chief on meet...   \n",
       "12         sports  Pathetic, unacceptable: Farveez on SL losing 9...   \n",
       "13         sports  Pak's bowling a concern, they didn't stand cha...   \n",
       "14         sports  How does the ODI World Cup 2023 points table r...   \n",
       "15         sports  Pak was different in our time, this team can't...   \n",
       "16         sports  An India-Pakistan series is not going to be co...   \n",
       "17         sports  Spectacular collapse: Harsha as SL lose 9 wick...   \n",
       "18         sports  David Warner gets angry, shouts after DRS rule...   \n",
       "19         sports  Absolutely delighted: PM Modi on cricket's Oly...   \n",
       "20     technology  PM Modi interacts with Google CEO Pichai, disc...   \n",
       "21     technology  Apple's new tech can update software on unopen...   \n",
       "22     technology                LinkedIn lays off 668 employees       \n",
       "23     technology  Govt asks YouTube to add disclaimer to 'fake n...   \n",
       "24     technology           What is the TCS bribes-for-jobs scandal?   \n",
       "25     technology  Twitch streamer Hasan Piker raises ₹5.6 cr for...   \n",
       "26     technology  Activision Blizzard CEO to leave firm with $40...   \n",
       "27     technology             TCS to hire 40,000 freshers this year    \n",
       "28     technology  High risk warning for iPhone 8 and later model...   \n",
       "29     technology  Google, Microsoft chatbots falsely say there's...   \n",
       "30  entertainment  My entry in Budhni will be 'mangal': 'Ramayan'...   \n",
       "31  entertainment  Alia Bhatt is gifted, she is the best in this ...   \n",
       "32  entertainment  Was swept by his magic: Karan Johar on his fir...   \n",
       "33  entertainment  Fatima reacts to comparisons with Kangana for ...   \n",
       "34  entertainment  Sunny left no stone unturned to show he was su...   \n",
       "35  entertainment  Was concerned if it'd be accepted: Rani on SRK...   \n",
       "36  entertainment  Kajol dresses as Anjali on 25th anniversary of...   \n",
       "37  entertainment  I'm a fan of only 2 actors, that's Alia and Ra...   \n",
       "38  entertainment  Want to say I'm feminist because it means gend...   \n",
       "39  entertainment  SRK forgets Salman while thanking KKHH cast, r...   \n",
       "\n",
       "                                              content  \n",
       "0   Jio Financial Services posted a net profit of ...  \n",
       "1   Microsoft-owned LinkedIn on Monday said it wou...  \n",
       "2   Akasa Air CEO Vinay Dube said a notice period ...  \n",
       "3   Adani Group has reacted amid allegations of TM...  \n",
       "4   Brent oil prices steadied above $90 (over ₹7,4...  \n",
       "5   The Supreme Court on Monday rejected a request...  \n",
       "6   SpiceJet's shares tanked 11% on Monday after a...  \n",
       "7   HDFC Bank on Monday reported a net profit of o...  \n",
       "8   The bribes-for-jobs scandal at Tata Consultanc...  \n",
       "9   Germany's BioNTech flagged write-downs of up t...  \n",
       "10  Australia fast bowler Mitchell Starc, who regi...  \n",
       "11  ISRO Chairman S Somanath on Monday met Chess G...  \n",
       "12  Ex-Sri Lanka all-rounder Farveez Maharoof term...  \n",
       "13  Ex-India pacer Ashish Nehra said Pakistan's bo...  \n",
       "14  Australia on Monday registered their first vic...  \n",
       "15  Ex-India captain Sourav Ganguly opened up abou...  \n",
       "16  Ex-India opener Gautam Gambhir said India have...  \n",
       "17  Reacting to Sri Lanka losing their last nine w...  \n",
       "18  Australia opener David Warner got angry and sh...  \n",
       "19  Reacting to International Olympic Committee (I...  \n",
       "20  PM Narendra Modi on Monday virtually interacte...  \n",
       "21  Apple has developed a pad-like device that can...  \n",
       "22  Microsoft-owned LinkedIn on Monday said it wou...  \n",
       "23  IT Ministry has advised YouTube to put a \"news...  \n",
       "24  The bribes-for-jobs scandal at Tata Consultanc...  \n",
       "25  Hasan Piker, who livestreams videos on Twitch,...  \n",
       "26  Activision Blizzard CEO Bobby Kotick will leav...  \n",
       "27  Tata Consultancy Services (TCS) is on track to...  \n",
       "28  The government's CERT-In has issued a high ris...  \n",
       "29  Amid the Israel-Hamas war, Google's Bard and M...  \n",
       "30  'Ramayan' actor Vikram Mastal, who will contes...  \n",
       "31  Kareena Kapoor in an interview called Alia Bha...  \n",
       "32  Karan Johar, recalling his first meeting with ...  \n",
       "33  Fatima Sana Shaikh, who will be seen portrayin...  \n",
       "34  Actor Bobby Deol, speaking about his actor-bro...  \n",
       "35  Rani Mukerji, on Kuch Kuch Hota Hai's 25th ann...  \n",
       "36  On the 25th anniversary of 'Kuch Kuch Hota Hai...  \n",
       "37  Actor Bobby Deol said that he is a fan of two ...  \n",
       "38  Actress Shefali Shah has said that if asked, s...  \n",
       "39  Marking 25th anniversary of 'Kuch Kuch Hota Ha...  "
      ]
     },
     "execution_count": 38,
     "metadata": {},
     "output_type": "execute_result"
    }
   ],
   "source": [
    "news_df = pd.DataFrame(final_list)\n",
    "news_df\n"
   ]
  },
  {
   "cell_type": "markdown",
   "id": "d428582c-df27-4b0f-af45-af134ec53034",
   "metadata": {},
   "source": [
    "# 7. Make another dataframe for the Codeup blog posts. Name the dataframe codeup_df.\n",
    "\n"
   ]
  },
  {
   "cell_type": "code",
   "execution_count": null,
   "id": "507512eb-53d0-4d92-855a-d00d09e43fb6",
   "metadata": {},
   "outputs": [],
   "source": []
  },
  {
   "cell_type": "markdown",
   "id": "1609ed54-0e02-4a13-8235-2b4b0a258c08",
   "metadata": {},
   "source": [
    "# 8. For each dataframe, produce the following columns:\n",
    "\n",
    "- title to hold the title\n",
    "- original to hold the original article/post content\n",
    "- clean to hold the normalized and tokenized original with the stopwords removed.\n",
    "- stemmed to hold the stemmed version of the cleaned data.\n",
    "- lemmatized to hold the lemmatized version of the cleaned data."
   ]
  },
  {
   "cell_type": "code",
   "execution_count": 43,
   "id": "92c66d8d-961d-4b54-93c3-286ac9b20ffa",
   "metadata": {},
   "outputs": [],
   "source": [
    "news_df['clean_norm_token'] = news_df['content'].apply(basic_clean).apply(tokenize).apply(remove_stopwords)\n"
   ]
  },
  {
   "cell_type": "code",
   "execution_count": 44,
   "id": "e4d915c0-7f62-4661-ac26-08953761038b",
   "metadata": {},
   "outputs": [],
   "source": [
    "news_df['stemmed'] = news_df.clean_norm_token.apply(stem)\n"
   ]
  },
  {
   "cell_type": "code",
   "execution_count": 45,
   "id": "7884c87b-dc1f-4d9a-aa12-b143532e1f88",
   "metadata": {},
   "outputs": [],
   "source": [
    "news_df['lemmatized'] = news_df.clean_norm_token.apply(lemmatize)\n"
   ]
  },
  {
   "cell_type": "code",
   "execution_count": 46,
   "id": "0b1feb9c-8feb-48fe-93ed-ab59bcbc6623",
   "metadata": {},
   "outputs": [
    {
     "data": {
      "text/html": [
       "<div>\n",
       "<style scoped>\n",
       "    .dataframe tbody tr th:only-of-type {\n",
       "        vertical-align: middle;\n",
       "    }\n",
       "\n",
       "    .dataframe tbody tr th {\n",
       "        vertical-align: top;\n",
       "    }\n",
       "\n",
       "    .dataframe thead th {\n",
       "        text-align: right;\n",
       "    }\n",
       "</style>\n",
       "<table border=\"1\" class=\"dataframe\">\n",
       "  <thead>\n",
       "    <tr style=\"text-align: right;\">\n",
       "      <th></th>\n",
       "      <th>category</th>\n",
       "      <th>title</th>\n",
       "      <th>content</th>\n",
       "      <th>clean_norm_token</th>\n",
       "      <th>stemmed</th>\n",
       "      <th>lemmatized</th>\n",
       "    </tr>\n",
       "  </thead>\n",
       "  <tbody>\n",
       "    <tr>\n",
       "      <th>0</th>\n",
       "      <td>business</td>\n",
       "      <td>Jio Financial Services' Q2 profit jumps 101% Q...</td>\n",
       "      <td>Jio Financial Services posted a net profit of ...</td>\n",
       "      <td>paul erdos george polya influential hungarian ...</td>\n",
       "      <td>paul erdo georg polya influenti hungarian math...</td>\n",
       "      <td>paul erdos george polya influential hungarian ...</td>\n",
       "    </tr>\n",
       "    <tr>\n",
       "      <th>1</th>\n",
       "      <td>business</td>\n",
       "      <td>LinkedIn lays off 668 employees</td>\n",
       "      <td>Microsoft-owned LinkedIn on Monday said it wou...</td>\n",
       "      <td>paul erdos george polya influential hungarian ...</td>\n",
       "      <td>paul erdo georg polya influenti hungarian math...</td>\n",
       "      <td>paul erdos george polya influential hungarian ...</td>\n",
       "    </tr>\n",
       "    <tr>\n",
       "      <th>2</th>\n",
       "      <td>business</td>\n",
       "      <td>6-month notice period for pilots not unreasona...</td>\n",
       "      <td>Akasa Air CEO Vinay Dube said a notice period ...</td>\n",
       "      <td>paul erdos george polya influential hungarian ...</td>\n",
       "      <td>paul erdo georg polya influenti hungarian math...</td>\n",
       "      <td>paul erdos george polya influential hungarian ...</td>\n",
       "    </tr>\n",
       "    <tr>\n",
       "      <th>3</th>\n",
       "      <td>business</td>\n",
       "      <td>Some working overtime to harm us: Adani Group ...</td>\n",
       "      <td>Adani Group has reacted amid allegations of TM...</td>\n",
       "      <td>paul erdos george polya influential hungarian ...</td>\n",
       "      <td>paul erdo georg polya influenti hungarian math...</td>\n",
       "      <td>paul erdos george polya influential hungarian ...</td>\n",
       "    </tr>\n",
       "    <tr>\n",
       "      <th>4</th>\n",
       "      <td>business</td>\n",
       "      <td>Oil prices steady above $90 as investors asses...</td>\n",
       "      <td>Brent oil prices steadied above $90 (over ₹7,4...</td>\n",
       "      <td>paul erdos george polya influential hungarian ...</td>\n",
       "      <td>paul erdo georg polya influenti hungarian math...</td>\n",
       "      <td>paul erdos george polya influential hungarian ...</td>\n",
       "    </tr>\n",
       "  </tbody>\n",
       "</table>\n",
       "</div>"
      ],
      "text/plain": [
       "   category                                              title  \\\n",
       "0  business  Jio Financial Services' Q2 profit jumps 101% Q...   \n",
       "1  business                LinkedIn lays off 668 employees       \n",
       "2  business  6-month notice period for pilots not unreasona...   \n",
       "3  business  Some working overtime to harm us: Adani Group ...   \n",
       "4  business  Oil prices steady above $90 as investors asses...   \n",
       "\n",
       "                                             content  \\\n",
       "0  Jio Financial Services posted a net profit of ...   \n",
       "1  Microsoft-owned LinkedIn on Monday said it wou...   \n",
       "2  Akasa Air CEO Vinay Dube said a notice period ...   \n",
       "3  Adani Group has reacted amid allegations of TM...   \n",
       "4  Brent oil prices steadied above $90 (over ₹7,4...   \n",
       "\n",
       "                                    clean_norm_token  \\\n",
       "0  paul erdos george polya influential hungarian ...   \n",
       "1  paul erdos george polya influential hungarian ...   \n",
       "2  paul erdos george polya influential hungarian ...   \n",
       "3  paul erdos george polya influential hungarian ...   \n",
       "4  paul erdos george polya influential hungarian ...   \n",
       "\n",
       "                                             stemmed  \\\n",
       "0  paul erdo georg polya influenti hungarian math...   \n",
       "1  paul erdo georg polya influenti hungarian math...   \n",
       "2  paul erdo georg polya influenti hungarian math...   \n",
       "3  paul erdo georg polya influenti hungarian math...   \n",
       "4  paul erdo georg polya influenti hungarian math...   \n",
       "\n",
       "                                          lemmatized  \n",
       "0  paul erdos george polya influential hungarian ...  \n",
       "1  paul erdos george polya influential hungarian ...  \n",
       "2  paul erdos george polya influential hungarian ...  \n",
       "3  paul erdos george polya influential hungarian ...  \n",
       "4  paul erdos george polya influential hungarian ...  "
      ]
     },
     "execution_count": 46,
     "metadata": {},
     "output_type": "execute_result"
    }
   ],
   "source": [
    "news_df.head()\n"
   ]
  },
  {
   "cell_type": "code",
   "execution_count": null,
   "id": "46839b31-6a20-49bc-8671-bb905028fba8",
   "metadata": {},
   "outputs": [],
   "source": []
  },
  {
   "cell_type": "code",
   "execution_count": null,
   "id": "18f36141-c8ea-426e-a279-0fe534166037",
   "metadata": {},
   "outputs": [],
   "source": []
  },
  {
   "cell_type": "code",
   "execution_count": null,
   "id": "edc2ef5f-39ad-40cf-b12a-eb281eb12c9f",
   "metadata": {},
   "outputs": [],
   "source": []
  },
  {
   "cell_type": "markdown",
   "id": "05644735-54a4-41f9-acd3-0a3251e8ce6f",
   "metadata": {},
   "source": [
    "# 9. Ask yourself:\n",
    "\n",
    "- If your corpus is 493KB, would you prefer to use stemmed or lemmatized text?\n",
    "    - lemmatize.\n",
    "- If your corpus is 25MB, would you prefer to use stemmed or lemmatized text?\n",
    "    - lemmatize.\n",
    "- If your corpus is 200TB of text and you're charged by the megabyte for your hosted computational resources, would you prefer to use stemmed or lemmatized text?\n",
    "   - stemmed.\n",
    "\n"
   ]
  },
  {
   "cell_type": "code",
   "execution_count": null,
   "id": "fce79d30-0e8d-4a93-a338-dc4bee421b6e",
   "metadata": {},
   "outputs": [],
   "source": []
  }
 ],
 "metadata": {
  "kernelspec": {
   "display_name": "Python 3 (ipykernel)",
   "language": "python",
   "name": "python3"
  },
  "language_info": {
   "codemirror_mode": {
    "name": "ipython",
    "version": 3
   },
   "file_extension": ".py",
   "mimetype": "text/x-python",
   "name": "python",
   "nbconvert_exporter": "python",
   "pygments_lexer": "ipython3",
   "version": "3.10.12"
  }
 },
 "nbformat": 4,
 "nbformat_minor": 5
}
