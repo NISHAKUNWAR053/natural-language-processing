{
 "cells": [
  {
   "cell_type": "code",
   "execution_count": 1,
   "id": "9d9d08fa-57a3-473e-b687-12946c44922b",
   "metadata": {},
   "outputs": [],
   "source": [
    "import pandas as pd\n",
    "import numpy as np\n",
    "\n",
    "#new import!\n",
    "import re"
   ]
  },
  {
   "cell_type": "markdown",
   "id": "7cddd444-c889-48fd-b07b-33a096355cb0",
   "metadata": {},
   "source": [
    "# 1.Write a function named is_vowel. It should accept a string as input and use a regular expression to determine if the passed string is a vowel. While not explicity mentioned in the lesson, you can treat the result of re.search as a boolean value that indicates whether or not the regular expression matches the given string."
   ]
  },
  {
   "cell_type": "code",
   "execution_count": 2,
   "id": "91ba7092-84ef-4415-a75c-176aa2be205b",
   "metadata": {},
   "outputs": [],
   "source": [
    "def is_vowel(vowel):\n",
    "    matched = re.search(r'[aeiou]', vowel)#scans through a string, looking for any location where the RE matches; returns match object\n",
    "    return bool(matched)\n",
    "    "
   ]
  },
  {
   "cell_type": "code",
   "execution_count": 3,
   "id": "25217bc6-b1ac-4de1-8942-c598572997b4",
   "metadata": {},
   "outputs": [
    {
     "data": {
      "text/plain": [
       "True"
      ]
     },
     "execution_count": 3,
     "metadata": {},
     "output_type": "execute_result"
    }
   ],
   "source": [
    "is_vowel('e')"
   ]
  },
  {
   "cell_type": "markdown",
   "id": "a4be5ddc-4ba7-490f-8e38-892b4e451c0a",
   "metadata": {},
   "source": [
    "# 2.Write a function named is_valid_username that accepts a string as input. A valid username starts with a lowercase letter, and only consists of lowercase letters, numbers, or the _ character. It should also be no longer than 32 characters. The function should return either True or False depending on whether the passed string is a valid username."
   ]
  },
  {
   "cell_type": "code",
   "execution_count": 9,
   "id": "e83753ed-ba78-49b7-941d-7ae3ef9b13fa",
   "metadata": {},
   "outputs": [],
   "source": [
    "def is_valid_username(user_name):\n",
    "    pattern = re.compile(r'^[a-z][a-z0-9_]{1,32}$')\n",
    "    valid_user = pattern.match(user_name)\n",
    "    return bool(valid_user)"
   ]
  },
  {
   "cell_type": "code",
   "execution_count": 11,
   "id": "0d1d141e-a25d-42d1-a5d6-b067ad5e35ff",
   "metadata": {},
   "outputs": [
    {
     "name": "stdout",
     "output_type": "stream",
     "text": [
      "1nbsta ---> False\n",
      "codeup ---> True\n",
      "Codeup ---> False\n",
      "codeup123 ---> True\n",
      "1codeup ---> False\n"
     ]
    }
   ],
   "source": [
    "test = ['1nbsta', 'codeup', 'Codeup', 'codeup123', '1codeup']\n",
    "for i in test:\n",
    "    print(i, '--->', is_valid_username(i))\n"
   ]
  },
  {
   "cell_type": "markdown",
   "id": "58f74497-df08-4082-b808-24f943c18122",
   "metadata": {},
   "source": [
    "# 3.Write a regular expression to capture phone numbers. It should match all of the following:"
   ]
  },
  {
   "cell_type": "code",
   "execution_count": 20,
   "id": "98c033b9-33b5-4cfb-9d72-75047304f8ff",
   "metadata": {},
   "outputs": [],
   "source": [
    "def is_valid_phone(phone):\n",
    "    pattern = re.compile(r'(^\\(\\d{3}\\)|^\\+\\d{1,2}|\\d{3})([\\.\\s-]\\d+){1,3}$')\n",
    "    valid_phone = pattern.search(phone)\n",
    "    return valid_phone"
   ]
  },
  {
   "cell_type": "code",
   "execution_count": null,
   "id": "a90a0b3c-fafc-4dcb-979c-38a14d68165c",
   "metadata": {},
   "outputs": [],
   "source": [
    "test = ['(210) 867 5309' , '+1 210.867.5309', '867-5309', '210-867-5309']\n",
    "for i in test:\n",
    "    print(i, '--->', is_valid_phone(i), '--->', bool(is_valid_phone(i)))\n"
   ]
  },
  {
   "cell_type": "markdown",
   "id": "cbeb4047-3540-4b17-a2da-238e86ddfd84",
   "metadata": {},
   "source": [
    "# 4. Use regular expressions to convert the dates below to the standardized year-month-day format.\n",
    "\n"
   ]
  },
  {
   "cell_type": "code",
   "execution_count": 25,
   "id": "a4ea7d4f-44c7-40e4-821a-0edaa63e393e",
   "metadata": {},
   "outputs": [],
   "source": [
    "date_list = ['02/04/19',\n",
    "             '02/05/19',\n",
    "             '02/06/19',\n",
    "             '02/07/19',\n",
    "             '02/08/19',\n",
    "             '02/09/19',\n",
    "             '02/10/19'\n",
    "            ]\n"
   ]
  },
  {
   "cell_type": "code",
   "execution_count": 26,
   "id": "4ddcb424-7a47-4a7c-9e3b-38d561c45167",
   "metadata": {},
   "outputs": [],
   "source": [
    "dates = pd.Series(date_list)\n"
   ]
  },
  {
   "cell_type": "code",
   "execution_count": 32,
   "id": "df80cfe0-51b7-4b83-885e-10fb9e8b8e30",
   "metadata": {},
   "outputs": [
    {
     "data": {
      "text/plain": [
       "0    2019-02-04\n",
       "1    2019-02-05\n",
       "2    2019-02-06\n",
       "3    2019-02-07\n",
       "4    2019-02-08\n",
       "5    2019-02-09\n",
       "6    2019-02-10\n",
       "dtype: object"
      ]
     },
     "execution_count": 32,
     "metadata": {},
     "output_type": "execute_result"
    }
   ],
   "source": [
    "dates.str.replace(r'(\\d{2})/(\\d{2})/(\\d{2})', r'20\\3-\\1-\\2', regex=True)\n"
   ]
  },
  {
   "cell_type": "code",
   "execution_count": null,
   "id": "f98538e9-0ec0-4eb3-9f9a-f9d200e5c494",
   "metadata": {},
   "outputs": [],
   "source": []
  },
  {
   "cell_type": "markdown",
   "id": "8aec54bb-6219-4074-9d62-45e7e75ed3de",
   "metadata": {},
   "source": [
    "# 5.Write a regex to extract the various parts of these logfile lines:\n",
    "\n"
   ]
  },
  {
   "cell_type": "code",
   "execution_count": 34,
   "id": "658a7365-4aed-48a7-b902-2d25e79bcbe1",
   "metadata": {},
   "outputs": [
    {
     "data": {
      "text/html": [
       "<div>\n",
       "<style scoped>\n",
       "    .dataframe tbody tr th:only-of-type {\n",
       "        vertical-align: middle;\n",
       "    }\n",
       "\n",
       "    .dataframe tbody tr th {\n",
       "        vertical-align: top;\n",
       "    }\n",
       "\n",
       "    .dataframe thead th {\n",
       "        text-align: right;\n",
       "    }\n",
       "</style>\n",
       "<table border=\"1\" class=\"dataframe\">\n",
       "  <thead>\n",
       "    <tr style=\"text-align: right;\">\n",
       "      <th></th>\n",
       "      <th>method</th>\n",
       "      <th>path</th>\n",
       "      <th>timestamp</th>\n",
       "      <th>http_version</th>\n",
       "      <th>status</th>\n",
       "      <th>bytes</th>\n",
       "      <th>user_agent</th>\n",
       "      <th>ip</th>\n",
       "    </tr>\n",
       "  </thead>\n",
       "  <tbody>\n",
       "    <tr>\n",
       "      <th>0</th>\n",
       "      <td>GET</td>\n",
       "      <td>/api/v1/sales?page=86</td>\n",
       "      <td>16/Apr/2019:193452+0000</td>\n",
       "      <td>HTTP/1.1</td>\n",
       "      <td>200</td>\n",
       "      <td>510348</td>\n",
       "      <td>python-requests/2.21.0</td>\n",
       "      <td>97.105.19.58</td>\n",
       "    </tr>\n",
       "    <tr>\n",
       "      <th>1</th>\n",
       "      <td>POST</td>\n",
       "      <td>/users_accounts/file-upload</td>\n",
       "      <td>16/Apr/2019:193452+0000</td>\n",
       "      <td>HTTP/1.1</td>\n",
       "      <td>201</td>\n",
       "      <td>42</td>\n",
       "      <td>User-Agent: Mozilla/5.0 (X11; Fedora; Fedora; ...</td>\n",
       "      <td>97.105.19.58</td>\n",
       "    </tr>\n",
       "    <tr>\n",
       "      <th>2</th>\n",
       "      <td>GET</td>\n",
       "      <td>/api/v1/items?page=3</td>\n",
       "      <td>16/Apr/2019:193453+0000</td>\n",
       "      <td>HTTP/1.1</td>\n",
       "      <td>429</td>\n",
       "      <td>3561</td>\n",
       "      <td>python-requests/2.21.0</td>\n",
       "      <td>97.105.19.58</td>\n",
       "    </tr>\n",
       "  </tbody>\n",
       "</table>\n",
       "</div>"
      ],
      "text/plain": [
       "  method                         path                timestamp http_version  \\\n",
       "0    GET        /api/v1/sales?page=86  16/Apr/2019:193452+0000     HTTP/1.1   \n",
       "1   POST  /users_accounts/file-upload  16/Apr/2019:193452+0000     HTTP/1.1   \n",
       "2    GET         /api/v1/items?page=3  16/Apr/2019:193453+0000     HTTP/1.1   \n",
       "\n",
       "  status   bytes                                         user_agent  \\\n",
       "0    200  510348                             python-requests/2.21.0   \n",
       "1    201      42  User-Agent: Mozilla/5.0 (X11; Fedora; Fedora; ...   \n",
       "2    429    3561                             python-requests/2.21.0   \n",
       "\n",
       "             ip  \n",
       "0  97.105.19.58  \n",
       "1  97.105.19.58  \n",
       "2  97.105.19.58  "
      ]
     },
     "execution_count": 34,
     "metadata": {},
     "output_type": "execute_result"
    }
   ],
   "source": [
    "logfile_re = r'''\n",
    "^(?P<method>GET|POST)\n",
    "\\s+\n",
    "(?P<path>.*?)\n",
    "\\s+\n",
    "\\[(?P<timestamp>.*?)\\]\n",
    "\\s+\n",
    "(?P<http_version>.*?)\n",
    "\\s+\n",
    "\\{(?P<status>\\d+)\\}\n",
    "\\s+\n",
    "(?P<bytes>\\d+)\n",
    "\\s+\n",
    "\"(?P<user_agent>.*)\"\n",
    "\\s+\n",
    "(?P<ip>.*)$\n",
    "'''\n",
    "\n",
    "lines = pd.Series([\n",
    "    'GET /api/v1/sales?page=86 [16/Apr/2019:193452+0000] HTTP/1.1 {200} 510348 \"python-requests/2.21.0\" 97.105.19.58',\n",
    "    'POST /users_accounts/file-upload [16/Apr/2019:193452+0000] HTTP/1.1 {201} 42 \"User-Agent: Mozilla/5.0 (X11; Fedora; Fedora; Linux x86_64) AppleWebKit/537.36 (KHTML, like Gecko) Chrome/73.0.3683.86 Safari/537.36\" 97.105.19.58',\n",
    "    'GET /api/v1/items?page=3 [16/Apr/2019:193453+0000] HTTP/1.1 {429} 3561 \"python-requests/2.21.0\" 97.105.19.58',\n",
    "])\n",
    "lines.str.extract(logfile_re, re.VERBOSE)"
   ]
  },
  {
   "cell_type": "code",
   "execution_count": null,
   "id": "2feb0e1d-9935-4234-8ef8-2e93f540740d",
   "metadata": {},
   "outputs": [],
   "source": []
  }
 ],
 "metadata": {
  "kernelspec": {
   "display_name": "Python 3 (ipykernel)",
   "language": "python",
   "name": "python3"
  },
  "language_info": {
   "codemirror_mode": {
    "name": "ipython",
    "version": 3
   },
   "file_extension": ".py",
   "mimetype": "text/x-python",
   "name": "python",
   "nbconvert_exporter": "python",
   "pygments_lexer": "ipython3",
   "version": "3.10.12"
  }
 },
 "nbformat": 4,
 "nbformat_minor": 5
}
