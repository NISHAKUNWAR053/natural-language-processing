{
 "cells": [
  {
   "cell_type": "code",
   "execution_count": 1,
   "id": "9d9d08fa-57a3-473e-b687-12946c44922b",
   "metadata": {},
   "outputs": [],
   "source": [
    "import pandas as pd\n",
    "import numpy as np\n",
    "\n",
    "#new import!\n",
    "import re"
   ]
  },
  {
   "cell_type": "markdown",
   "id": "7cddd444-c889-48fd-b07b-33a096355cb0",
   "metadata": {},
   "source": [
    "# 1.Write a function named is_vowel. It should accept a string as input and use a regular expression to determine if the passed string is a vowel. While not explicity mentioned in the lesson, you can treat the result of re.search as a boolean value that indicates whether or not the regular expression matches the given string."
   ]
  },
  {
   "cell_type": "code",
   "execution_count": 2,
   "id": "91ba7092-84ef-4415-a75c-176aa2be205b",
   "metadata": {},
   "outputs": [],
   "source": [
    "def is_vowel(vowel):\n",
    "    matched = re.search(r'[aeiou]', vowel)#scans through a string, looking for any location where the RE matches; returns match object\n",
    "    return bool(matched)\n",
    "    "
   ]
  },
  {
   "cell_type": "code",
   "execution_count": 3,
   "id": "25217bc6-b1ac-4de1-8942-c598572997b4",
   "metadata": {},
   "outputs": [
    {
     "data": {
      "text/plain": [
       "True"
      ]
     },
     "execution_count": 3,
     "metadata": {},
     "output_type": "execute_result"
    }
   ],
   "source": [
    "is_vowel('e')"
   ]
  },
  {
   "cell_type": "markdown",
   "id": "a4be5ddc-4ba7-490f-8e38-892b4e451c0a",
   "metadata": {},
   "source": [
    "# 2.Write a function named is_valid_username that accepts a string as input. A valid username starts with a lowercase letter, and only consists of lowercase letters, numbers, or the _ character. It should also be no longer than 32 characters. The function should return either True or False depending on whether the passed string is a valid username."
   ]
  },
  {
   "cell_type": "code",
   "execution_count": 9,
   "id": "e83753ed-ba78-49b7-941d-7ae3ef9b13fa",
   "metadata": {},
   "outputs": [],
   "source": [
    "def is_valid_username(user_name):\n",
    "    pattern = re.compile(r'^[a-z][a-z0-9_]{1,32}$')\n",
    "    valid_user = pattern.match(user_name)\n",
    "    return bool(valid_user)"
   ]
  },
  {
   "cell_type": "code",
   "execution_count": 11,
   "id": "0d1d141e-a25d-42d1-a5d6-b067ad5e35ff",
   "metadata": {},
   "outputs": [
    {
     "name": "stdout",
     "output_type": "stream",
     "text": [
      "1nbsta ---> False\n",
      "codeup ---> True\n",
      "Codeup ---> False\n",
      "codeup123 ---> True\n",
      "1codeup ---> False\n"
     ]
    }
   ],
   "source": [
    "test = ['1nbsta', 'codeup', 'Codeup', 'codeup123', '1codeup']\n",
    "for i in test:\n",
    "    print(i, '--->', is_valid_username(i))\n"
   ]
  },
  {
   "cell_type": "markdown",
   "id": "58f74497-df08-4082-b808-24f943c18122",
   "metadata": {},
   "source": [
    "# 3.Write a regular expression to capture phone numbers. It should match all of the following:"
   ]
  },
  {
   "cell_type": "code",
   "execution_count": 20,
   "id": "98c033b9-33b5-4cfb-9d72-75047304f8ff",
   "metadata": {},
   "outputs": [],
   "source": [
    "def is_valid_phone(phone):\n",
    "    pattern = re.compile(r'(^\\(\\d{3}\\)|^\\+\\d{1,2}|\\d{3})([\\.\\s-]\\d+){1,3}$')\n",
    "    valid_phone = pattern.search(phone)\n",
    "    return valid_phone"
   ]
  },
  {
   "cell_type": "code",
   "execution_count": null,
   "id": "a90a0b3c-fafc-4dcb-979c-38a14d68165c",
   "metadata": {},
   "outputs": [],
   "source": [
    "test = ['(210) 867 5309' , '+1 210.867.5309', '867-5309', '210-867-5309']\n",
    "for i in test:\n",
    "    print(i, '--->', is_valid_phone(i), '--->', bool(is_valid_phone(i)))\n"
   ]
  },
  {
   "cell_type": "markdown",
   "id": "cbeb4047-3540-4b17-a2da-238e86ddfd84",
   "metadata": {},
   "source": [
    "# 4. Use regular expressions to convert the dates below to the standardized year-month-day format.\n",
    "\n"
   ]
  },
  {
   "cell_type": "code",
   "execution_count": 25,
   "id": "a4ea7d4f-44c7-40e4-821a-0edaa63e393e",
   "metadata": {},
   "outputs": [],
   "source": [
    "date_list = ['02/04/19',\n",
    "             '02/05/19',\n",
    "             '02/06/19',\n",
    "             '02/07/19',\n",
    "             '02/08/19',\n",
    "             '02/09/19',\n",
    "             '02/10/19'\n",
    "            ]\n"
   ]
  },
  {
   "cell_type": "code",
   "execution_count": 26,
   "id": "4ddcb424-7a47-4a7c-9e3b-38d561c45167",
   "metadata": {},
   "outputs": [],
   "source": [
    "dates = pd.Series(date_list)\n"
   ]
  },
  {
   "cell_type": "code",
   "execution_count": 32,
   "id": "df80cfe0-51b7-4b83-885e-10fb9e8b8e30",
   "metadata": {},
   "outputs": [
    {
     "data": {
      "text/plain": [
       "0    2019-02-04\n",
       "1    2019-02-05\n",
       "2    2019-02-06\n",
       "3    2019-02-07\n",
       "4    2019-02-08\n",
       "5    2019-02-09\n",
       "6    2019-02-10\n",
       "dtype: object"
      ]
     },
     "execution_count": 32,
     "metadata": {},
     "output_type": "execute_result"
    }
   ],
   "source": [
    "dates.str.replace(r'(\\d{2})/(\\d{2})/(\\d{2})', r'20\\3-\\1-\\2', regex=True)\n"
   ]
  },
  {
   "cell_type": "code",
   "execution_count": null,
   "id": "f98538e9-0ec0-4eb3-9f9a-f9d200e5c494",
   "metadata": {},
   "outputs": [],
   "source": []
  }
 ],
 "metadata": {
  "kernelspec": {
   "display_name": "Python 3 (ipykernel)",
   "language": "python",
   "name": "python3"
  },
  "language_info": {
   "codemirror_mode": {
    "name": "ipython",
    "version": 3
   },
   "file_extension": ".py",
   "mimetype": "text/x-python",
   "name": "python",
   "nbconvert_exporter": "python",
   "pygments_lexer": "ipython3",
   "version": "3.10.12"
  }
 },
 "nbformat": 4,
 "nbformat_minor": 5
}
